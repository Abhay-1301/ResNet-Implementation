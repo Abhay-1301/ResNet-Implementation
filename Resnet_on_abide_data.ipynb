{
  "cells": [
    {
      "cell_type": "code",
      "execution_count": null,
      "metadata": {
        "colab": {
          "base_uri": "https://localhost:8080/"
        },
        "id": "YpUx0Gv48ti4",
        "outputId": "6eec02bf-e689-44f7-8503-2110109bd3e4"
      },
      "outputs": [
        {
          "output_type": "stream",
          "name": "stdout",
          "text": [
            "[PhysicalDevice(name='/physical_device:GPU:0', device_type='GPU')]\n"
          ]
        }
      ],
      "source": [
        "import os\n",
        "import pandas as pd\n",
        "import numpy as np\n",
        "import tensorflow as tf\n",
        "from tensorflow.keras.preprocessing.image import load_img, img_to_array\n",
        "from sklearn.model_selection import train_test_split\n",
        "from keras.callbacks import EarlyStopping, ModelCheckpoint\n",
        "from keras.preprocessing import image\n",
        "from tensorflow.keras.layers import Input, Conv2D,Conv3D, BatchNormalization, Activation, Add, MaxPool3D, Dense, GlobalAveragePooling3D\n",
        "from keras.models import load_model\n",
        "import nibabel as nib\n",
        "from scipy import ndimage\n",
        "print(tf.config.list_physical_devices('GPU'))"
      ]
    },
    {
      "cell_type": "code",
      "source": [
        "from google.colab import drive\n",
        "drive.mount('/content/drive')"
      ],
      "metadata": {
        "colab": {
          "base_uri": "https://localhost:8080/"
        },
        "id": "fx4CKd8D9oMR",
        "outputId": "012822ba-9ec3-4d09-d007-844883cc0d12"
      },
      "execution_count": null,
      "outputs": [
        {
          "output_type": "stream",
          "name": "stdout",
          "text": [
            "Mounted at /content/drive\n"
          ]
        }
      ]
    },
    {
      "cell_type": "code",
      "execution_count": null,
      "metadata": {
        "id": "wBPboEJx8ti8"
      },
      "outputs": [],
      "source": [
        "def conv3x3(filters, stride=1):\n",
        "    return Conv3D(filters, kernel_size=(3,3,3), strides=stride, padding='same', use_bias=False)\n",
        "\n",
        "def residual_block(x, filters, downsample=False):\n",
        "    shortcut = x\n",
        "    stride = 1\n",
        "    if downsample:\n",
        "        stride = 2\n",
        "        shortcut = Conv3D(filters, kernel_size=(1,1,1), strides=stride, padding='same', use_bias=False)(shortcut)\n",
        "        shortcut = BatchNormalization()(shortcut)\n",
        "    \n",
        "    x = conv3x3(filters, stride)(x)\n",
        "    x = BatchNormalization()(x)\n",
        "    x = Activation('relu')(x)\n",
        "    x = conv3x3(filters)(x)\n",
        "    x = BatchNormalization()(x)\n",
        "    # if shortcut.shape[-1] != x.shape[-1]:\n",
        "    #     x = tf.keras.layers.Conv3D(filters=shortcut.shape[-1], kernel_size=1)(x)    \n",
        "    print(x.shape,shortcut.shape)\n",
        "    x = Add()([x, shortcut])\n",
        "    x = Activation('relu')(x)\n",
        "    return x\n",
        "\n",
        "def ResNet10(input_shape=(224,224,224), num_classes=1000):\n",
        "    inputs = Input(shape=input_shape)\n",
        "    \n",
        "    x = conv3x3(64, stride=2)(inputs)\n",
        "    x = BatchNormalization()(x)\n",
        "    x = Activation('relu')(x)\n",
        "    \n",
        "    x = residual_block(x, 64)\n",
        "    \n",
        "    x = residual_block(x, 128, downsample=True)\n",
        "    x = residual_block(x, 128)\n",
        "    \n",
        "    x = GlobalAveragePooling3D()(x)\n",
        "\n",
        "    x = Dense(num_classes, activation='softmax')(x)\n",
        "    \n",
        "    model = tf.keras.Model(inputs, x)\n",
        "    return model\n",
        "\n",
        "# # Define function to load and preprocess images\n",
        "# def load_and_preprocess_image(image_path):\n",
        "#     # Load image\n",
        "#     img = load_img(image_path, target_size=(96, 96))\n",
        "#     # Convert image to array\n",
        "#     img_arr = img_to_array(img)\n",
        "#     # Normalize pixel values\n",
        "#     img_arr = img_arr / 255.0\n",
        "#     # Return preprocessed image\n",
        "#     return img_arr\n",
        "\n",
        "def load_and_preprocess_image(path):\n",
        "    # load the .nii.gz file\n",
        "    img = nib.load(path)\n",
        "\n",
        "    # get the image data and header\n",
        "    img_data = img.get_fdata()\n",
        "    img_header = img.header\n",
        "\n",
        "    # resize the image to (96, 96, 96)\n",
        "    img_resized = ndimage.zoom(img_data, (96 / img_data.shape[0], 96 / img_data.shape[1], 96 / img_data.shape[2]), order=1)\n",
        "\n",
        "    # convert the image to an array and normalize it\n",
        "    img_array = np.asarray(img_resized, dtype=np.float32)\n",
        "    img_min = np.min(img_array)\n",
        "    img_max = np.max(img_array)\n",
        "    img_array_norm = (img_array - img_min) / (img_max - img_min)\n",
        "\n",
        "    return img_array_norm"
      ]
    },
    {
      "cell_type": "code",
      "execution_count": null,
      "metadata": {
        "id": "Tzx4oJ4v8ti_"
      },
      "outputs": [],
      "source": [
        "# Define paths to image directory and label csv file\n",
        "image_dir = '/content/drive/MyDrive/Abide_Data'\n",
        "label_file = '/content/drive/MyDrive/B.Tech/abide_label_niigz.csv'\n",
        "\n",
        "# Load label csv file\n",
        "labels_df = pd.read_csv(label_file)\n",
        "\n",
        "# Create lists to store image paths and labels\n",
        "image_paths = []\n",
        "labels = []\n",
        "\n",
        "# Loop over each row in the label csv file and extract image path and label\n",
        "for index, row in labels_df.iterrows():\n",
        "    image_name = row['image_name']\n",
        "    label = row['label']\n",
        "    image_path = os.path.join(image_dir, image_name)\n",
        "    image_paths.append(image_path)\n",
        "    labels.append(label)\n",
        "\n",
        "# Convert labels to numpy array\n",
        "labels = np.array(labels)\n",
        "\n",
        "# Split data into training and testing sets\n",
        "train_image_paths, test_image_paths, train_labels, test_labels = train_test_split(image_paths, labels, test_size=0.2, random_state=42)"
      ]
    },
    {
      "cell_type": "code",
      "execution_count": null,
      "metadata": {
        "id": "gbK9tDYY8tjB"
      },
      "outputs": [],
      "source": [
        "# Load and preprocess training images\n",
        "train_images = []\n",
        "for image_path in train_image_paths:\n",
        "    img = load_and_preprocess_image(image_path)\n",
        "    train_images.append(img)\n",
        "train_images = np.array(train_images)\n",
        "\n",
        "# Load and preprocess testing images\n",
        "test_images = []\n",
        "for image_path in test_image_paths:\n",
        "    img = load_and_preprocess_image(image_path)\n",
        "    test_images.append(img)\n",
        "test_images = np.array(test_images)"
      ]
    },
    {
      "cell_type": "code",
      "execution_count": null,
      "metadata": {
        "id": "itds91nE8tjC"
      },
      "outputs": [],
      "source": [
        "# import matplotlib.pyplot as plt\n",
        "\n",
        "# img_data = train_images[0]\n",
        "\n",
        "# # Select a slice along the z-axis\n",
        "# z_slice = 50\n",
        "# slice_data = img_data[:, :, z_slice]\n",
        "\n",
        "# # Plot the selected slice\n",
        "# fig, ax = plt.subplots()\n",
        "# ax.imshow(slice_data, cmap='gray')\n",
        "# ax.set_title('Slice {} of 3D image'.format(z_slice))\n",
        "# plt.show()\n"
      ]
    },
    {
      "cell_type": "code",
      "execution_count": null,
      "metadata": {
        "id": "k-RwnMrx8tjD"
      },
      "outputs": [],
      "source": [
        "# # Save preprocessed images as numpy arrays\n",
        "# np.save('train_images.npy', train_images)\n",
        "# np.save('test_images.npy', test_images)\n",
        "# np.save('train_labels.npy', train_labels)\n",
        "# np.save('test_labels.npy', test_labels)\n"
      ]
    },
    {
      "cell_type": "code",
      "execution_count": null,
      "metadata": {
        "id": "PDsbu5R68tjE"
      },
      "outputs": [],
      "source": [
        "# train_images = np.load('train_images.npy')\n",
        "# test_images = np.load('test_images.npy')"
      ]
    },
    {
      "cell_type": "code",
      "execution_count": null,
      "metadata": {
        "colab": {
          "base_uri": "https://localhost:8080/"
        },
        "id": "VSryl-NG8tjE",
        "outputId": "822f8667-6398-4a3b-8889-548361294ada"
      },
      "outputs": [
        {
          "output_type": "stream",
          "name": "stdout",
          "text": [
            "(None, 48, 48, 48, 64) (None, 48, 48, 48, 64)\n",
            "(None, 24, 24, 24, 128) (None, 24, 24, 24, 128)\n",
            "(None, 24, 24, 24, 128) (None, 24, 24, 24, 128)\n",
            "Model: \"model\"\n",
            "__________________________________________________________________________________________________\n",
            " Layer (type)                   Output Shape         Param #     Connected to                     \n",
            "==================================================================================================\n",
            " input_1 (InputLayer)           [(None, 96, 96, 96,  0           []                               \n",
            "                                 1)]                                                              \n",
            "                                                                                                  \n",
            " conv3d (Conv3D)                (None, 48, 48, 48,   1728        ['input_1[0][0]']                \n",
            "                                64)                                                               \n",
            "                                                                                                  \n",
            " batch_normalization (BatchNorm  (None, 48, 48, 48,   256        ['conv3d[0][0]']                 \n",
            " alization)                     64)                                                               \n",
            "                                                                                                  \n",
            " activation (Activation)        (None, 48, 48, 48,   0           ['batch_normalization[0][0]']    \n",
            "                                64)                                                               \n",
            "                                                                                                  \n",
            " conv3d_1 (Conv3D)              (None, 48, 48, 48,   110592      ['activation[0][0]']             \n",
            "                                64)                                                               \n",
            "                                                                                                  \n",
            " batch_normalization_1 (BatchNo  (None, 48, 48, 48,   256        ['conv3d_1[0][0]']               \n",
            " rmalization)                   64)                                                               \n",
            "                                                                                                  \n",
            " activation_1 (Activation)      (None, 48, 48, 48,   0           ['batch_normalization_1[0][0]']  \n",
            "                                64)                                                               \n",
            "                                                                                                  \n",
            " conv3d_2 (Conv3D)              (None, 48, 48, 48,   110592      ['activation_1[0][0]']           \n",
            "                                64)                                                               \n",
            "                                                                                                  \n",
            " batch_normalization_2 (BatchNo  (None, 48, 48, 48,   256        ['conv3d_2[0][0]']               \n",
            " rmalization)                   64)                                                               \n",
            "                                                                                                  \n",
            " add (Add)                      (None, 48, 48, 48,   0           ['batch_normalization_2[0][0]',  \n",
            "                                64)                               'activation[0][0]']             \n",
            "                                                                                                  \n",
            " activation_2 (Activation)      (None, 48, 48, 48,   0           ['add[0][0]']                    \n",
            "                                64)                                                               \n",
            "                                                                                                  \n",
            " conv3d_4 (Conv3D)              (None, 24, 24, 24,   221184      ['activation_2[0][0]']           \n",
            "                                128)                                                              \n",
            "                                                                                                  \n",
            " batch_normalization_4 (BatchNo  (None, 24, 24, 24,   512        ['conv3d_4[0][0]']               \n",
            " rmalization)                   128)                                                              \n",
            "                                                                                                  \n",
            " activation_3 (Activation)      (None, 24, 24, 24,   0           ['batch_normalization_4[0][0]']  \n",
            "                                128)                                                              \n",
            "                                                                                                  \n",
            " conv3d_5 (Conv3D)              (None, 24, 24, 24,   442368      ['activation_3[0][0]']           \n",
            "                                128)                                                              \n",
            "                                                                                                  \n",
            " conv3d_3 (Conv3D)              (None, 24, 24, 24,   8192        ['activation_2[0][0]']           \n",
            "                                128)                                                              \n",
            "                                                                                                  \n",
            " batch_normalization_5 (BatchNo  (None, 24, 24, 24,   512        ['conv3d_5[0][0]']               \n",
            " rmalization)                   128)                                                              \n",
            "                                                                                                  \n",
            " batch_normalization_3 (BatchNo  (None, 24, 24, 24,   512        ['conv3d_3[0][0]']               \n",
            " rmalization)                   128)                                                              \n",
            "                                                                                                  \n",
            " add_1 (Add)                    (None, 24, 24, 24,   0           ['batch_normalization_5[0][0]',  \n",
            "                                128)                              'batch_normalization_3[0][0]']  \n",
            "                                                                                                  \n",
            " activation_4 (Activation)      (None, 24, 24, 24,   0           ['add_1[0][0]']                  \n",
            "                                128)                                                              \n",
            "                                                                                                  \n",
            " conv3d_6 (Conv3D)              (None, 24, 24, 24,   442368      ['activation_4[0][0]']           \n",
            "                                128)                                                              \n",
            "                                                                                                  \n",
            " batch_normalization_6 (BatchNo  (None, 24, 24, 24,   512        ['conv3d_6[0][0]']               \n",
            " rmalization)                   128)                                                              \n",
            "                                                                                                  \n",
            " activation_5 (Activation)      (None, 24, 24, 24,   0           ['batch_normalization_6[0][0]']  \n",
            "                                128)                                                              \n",
            "                                                                                                  \n",
            " conv3d_7 (Conv3D)              (None, 24, 24, 24,   442368      ['activation_5[0][0]']           \n",
            "                                128)                                                              \n",
            "                                                                                                  \n",
            " batch_normalization_7 (BatchNo  (None, 24, 24, 24,   512        ['conv3d_7[0][0]']               \n",
            " rmalization)                   128)                                                              \n",
            "                                                                                                  \n",
            " add_2 (Add)                    (None, 24, 24, 24,   0           ['batch_normalization_7[0][0]',  \n",
            "                                128)                              'activation_4[0][0]']           \n",
            "                                                                                                  \n",
            " activation_6 (Activation)      (None, 24, 24, 24,   0           ['add_2[0][0]']                  \n",
            "                                128)                                                              \n",
            "                                                                                                  \n",
            " global_average_pooling3d (Glob  (None, 128)         0           ['activation_6[0][0]']           \n",
            " alAveragePooling3D)                                                                              \n",
            "                                                                                                  \n",
            " dense (Dense)                  (None, 2)            258         ['global_average_pooling3d[0][0]'\n",
            "                                                                 ]                                \n",
            "                                                                                                  \n",
            "==================================================================================================\n",
            "Total params: 1,782,978\n",
            "Trainable params: 1,781,314\n",
            "Non-trainable params: 1,664\n",
            "__________________________________________________________________________________________________\n"
          ]
        }
      ],
      "source": [
        "model = ResNet10(input_shape=(96, 96, 96,1), num_classes=2)\n",
        "model.summary()"
      ]
    },
    {
      "cell_type": "code",
      "execution_count": null,
      "metadata": {
        "id": "63JFyXo_8tjG"
      },
      "outputs": [],
      "source": [
        "# Compile the model\n",
        "opt = tf.keras.optimizers.RMSprop(learning_rate = 0.001)\n",
        "model.compile(optimizer=opt, loss='sparse_categorical_crossentropy', metrics=['accuracy'])\n",
        "\n",
        "# tf.keras.metrics.TruePositives(),tf.keras.metrics.TrueNegatives(),tf.keras.metrics.FalsePositives(),tf.keras.metrics.FalseNegatives()"
      ]
    },
    {
      "cell_type": "code",
      "execution_count": null,
      "metadata": {
        "colab": {
          "base_uri": "https://localhost:8080/"
        },
        "id": "Klf11IDQ8tjG",
        "outputId": "dc52509a-d4b3-4af2-8815-8c9d111bf367"
      },
      "outputs": [
        {
          "output_type": "stream",
          "name": "stdout",
          "text": [
            "Epoch 1/20\n",
            "3/3 [==============================] - 6s 2s/step - loss: 1.3833 - accuracy: 0.4474 - val_loss: 31.5588 - val_accuracy: 0.5500\n",
            "Epoch 2/20\n",
            "3/3 [==============================] - 6s 2s/step - loss: 0.7051 - accuracy: 0.5132 - val_loss: 7.9399 - val_accuracy: 0.5500\n",
            "Epoch 3/20\n",
            "3/3 [==============================] - 6s 2s/step - loss: 0.7790 - accuracy: 0.5526 - val_loss: 8.5318 - val_accuracy: 0.5500\n",
            "Epoch 4/20\n",
            "3/3 [==============================] - 6s 2s/step - loss: 0.7433 - accuracy: 0.5132 - val_loss: 1.8504 - val_accuracy: 0.5500\n",
            "Epoch 5/20\n",
            "3/3 [==============================] - 6s 2s/step - loss: 0.7771 - accuracy: 0.4737 - val_loss: 1.2583 - val_accuracy: 0.5500\n",
            "Epoch 6/20\n",
            "3/3 [==============================] - 6s 2s/step - loss: 0.6996 - accuracy: 0.5789 - val_loss: 0.9137 - val_accuracy: 0.5500\n",
            "Epoch 7/20\n",
            "3/3 [==============================] - 6s 2s/step - loss: 0.6723 - accuracy: 0.5395 - val_loss: 0.7071 - val_accuracy: 0.5500\n",
            "Epoch 8/20\n",
            "3/3 [==============================] - 6s 2s/step - loss: 0.6913 - accuracy: 0.5789 - val_loss: 0.7324 - val_accuracy: 0.5500\n",
            "Epoch 9/20\n",
            "3/3 [==============================] - 6s 2s/step - loss: 0.7233 - accuracy: 0.5658 - val_loss: 0.8450 - val_accuracy: 0.5500\n",
            "Epoch 10/20\n",
            "3/3 [==============================] - 6s 2s/step - loss: 0.7023 - accuracy: 0.5658 - val_loss: 0.7719 - val_accuracy: 0.5500\n"
          ]
        }
      ],
      "source": [
        "# Define some callbacks\n",
        "early_stop = EarlyStopping(patience=3, monitor='val_loss')\n",
        "checkpointer = ModelCheckpoint(filepath='best_model_abide_resnet.h5', save_best_only=True, monitor='val_loss')\n",
        "\n",
        "# Train the model\n",
        "history = model.fit(train_images, train_labels, epochs=20, batch_size=32, validation_split=0.2, callbacks=[early_stop, checkpointer])"
      ]
    },
    {
      "cell_type": "code",
      "execution_count": null,
      "metadata": {
        "id": "9K0JITQ-8tjH"
      },
      "outputs": [],
      "source": [
        "# from matplotlib import pyplot as plt\n",
        "\n",
        "# plt.plot(history.history['accuracy'])\n",
        "# plt.plot(history.history['val_accuracy'])\n",
        "# plt.title('model accuracy')\n",
        "# plt.ylabel('accuracy')\n",
        "# plt.xlabel('epoch')\n",
        "# plt.legend(['train', 'val'], loc='upper left')\n",
        "# plt.show()"
      ]
    },
    {
      "cell_type": "code",
      "execution_count": null,
      "metadata": {
        "colab": {
          "base_uri": "https://localhost:8080/"
        },
        "id": "2RpARGY68tjH",
        "outputId": "a66d0fe4-312f-4964-8d51-84704a0f2e97"
      },
      "outputs": [
        {
          "output_type": "stream",
          "name": "stdout",
          "text": [
            "1/1 [==============================] - 3s 3s/step - loss: 0.8368 - accuracy: 0.3750\n",
            "Test loss: 0.8367533683776855\n",
            "Test accuracy: 0.375\n"
          ]
        }
      ],
      "source": [
        "best_model = load_model('best_model_abide_resnet.h5')\n",
        "\n",
        "# Evaluate the model on the testing set\n",
        "test_loss, test_accuracy = best_model.evaluate(test_images, test_labels)\n",
        "print('Test loss:', test_loss)\n",
        "print('Test accuracy:', test_accuracy)"
      ]
    },
    {
      "cell_type": "code",
      "execution_count": null,
      "metadata": {
        "colab": {
          "base_uri": "https://localhost:8080/",
          "height": 472
        },
        "id": "wIEaj-qF8tjI",
        "outputId": "781cb319-ad6d-481f-c89a-c15a1a3b179d"
      },
      "outputs": [
        {
          "output_type": "display_data",
          "data": {
            "text/plain": [
              "<Figure size 640x480 with 1 Axes>"
            ],
            "image/png": "[encoded data removed]"
          },
          "metadata": {}
        }
      ],
      "source": [
        "from matplotlib import pyplot as plt\n",
        "\n",
        "plt.plot(history.history['accuracy'])\n",
        "plt.plot(history.history['val_accuracy'])\n",
        "plt.title('model accuracy')\n",
        "plt.ylabel('accuracy')\n",
        "plt.xlabel('epoch')\n",
        "plt.legend(['train', 'val'], loc='upper left')\n",
        "plt.show()"
      ]
    },
    {
      "cell_type": "code",
      "execution_count": null,
      "metadata": {
        "colab": {
          "base_uri": "https://localhost:8080/",
          "height": 472
        },
        "id": "1XtNCUGd8tjJ",
        "outputId": "cc065762-cea2-40e9-fdab-31f896ae99e7"
      },
      "outputs": [
        {
          "output_type": "display_data",
          "data": {
            "text/plain": [
              "<Figure size 640x480 with 1 Axes>"
            ],
            "image/png": "[encoded data removed]"
          },
          "metadata": {}
        }
      ],
      "source": [
        "plt.plot(history.history['loss'])\n",
        "plt.plot(history.history['val_loss'])\n",
        "plt.title('model loss')\n",
        "plt.ylabel('loss')\n",
        "plt.xlabel('epoch')\n",
        "plt.legend(['train', 'val'], loc='upper left')\n",
        "plt.show()"
      ]
    },
    {
      "cell_type": "code",
      "execution_count": null,
      "metadata": {
        "colab": {
          "base_uri": "https://localhost:8080/"
        },
        "id": "KzWMvlhV8tjJ",
        "outputId": "54344d0e-90f1-4267-df9f-9c2394302aec"
      },
      "outputs": [
        {
          "output_type": "stream",
          "name": "stdout",
          "text": [
            "1/1 [==============================] - 0s 432ms/step\n"
          ]
        }
      ],
      "source": [
        "result = model.predict(test_images,)\n",
        "y_test = np.argmax(result, axis=1)\n"
      ]
    },
    {
      "cell_type": "code",
      "execution_count": null,
      "metadata": {
        "colab": {
          "base_uri": "https://localhost:8080/"
        },
        "id": "C5T-WiRS8tjK",
        "outputId": "4ea1ac83-2cc9-4ec9-c638-a5c38b574abb"
      },
      "outputs": [
        {
          "output_type": "stream",
          "name": "stdout",
          "text": [
            "[[ 0 15]\n",
            " [ 0  9]]\n"
          ]
        }
      ],
      "source": [
        "from sklearn.metrics import confusion_matrix\n",
        "\n",
        "# Assume y_true and y_pred are the true and predicted labels, respectively\n",
        "y_true = test_labels\n",
        "y_pred = y_test\n",
        "\n",
        "# Get the confusion matrix\n",
        "cm = confusion_matrix(y_true, y_pred)\n",
        "print(cm)\n"
      ]
    },
    {
      "cell_type": "code",
      "execution_count": null,
      "metadata": {
        "colab": {
          "base_uri": "https://localhost:8080/"
        },
        "id": "ZYa6wNOV8tjK",
        "outputId": "974051fc-53e4-4894-ff8e-8bdf409e663b"
      },
      "outputs": [
        {
          "output_type": "stream",
          "name": "stdout",
          "text": [
            "Class 1\n",
            "True Positives (TP):  0\n",
            "True Negatives (TN):  9\n",
            "False Positives (FP):  0\n",
            "False Negatives (FN):  15\n",
            "Class 2\n",
            "True Positives (TP):  9\n",
            "True Negatives (TN):  0\n",
            "False Positives (FP):  15\n",
            "False Negatives (FN):  0\n"
          ]
        }
      ],
      "source": [
        "# Loop over the rows and columns of the confusion matrix to extract TP, TN, FP, and FN numbers for each class\n",
        "for i in range(len(cm)):\n",
        "    tp = cm[i,i]\n",
        "    fp = sum(cm[:,i]) - tp\n",
        "    fn = sum(cm[i,:]) - tp\n",
        "    tn = sum(sum(cm)) - tp - fp - fn\n",
        "    \n",
        "    print(f\"Class {i+1}\")\n",
        "    print(\"True Positives (TP): \", tp)\n",
        "    print(\"True Negatives (TN): \", tn)\n",
        "    print(\"False Positives (FP): \", fp)\n",
        "    print(\"False Negatives (FN): \", fn)"
      ]
    },
    {
      "cell_type": "code",
      "execution_count": null,
      "metadata": {
        "colab": {
          "base_uri": "https://localhost:8080/"
        },
        "id": "SJ7KBYVl8tjL",
        "outputId": "3bd5636f-9959-49dc-fcbe-26aea35303fe"
      },
      "outputs": [
        {
          "output_type": "stream",
          "name": "stdout",
          "text": [
            "              precision    recall  f1-score   support\n",
            "\n",
            "           0     0.0000    0.0000    0.0000        15\n",
            "           1     0.3750    1.0000    0.5455         9\n",
            "\n",
            "    accuracy                         0.3750        24\n",
            "   macro avg     0.1875    0.5000    0.2727        24\n",
            "weighted avg     0.1406    0.3750    0.2045        24\n",
            "\n"
          ]
        },
        {
          "output_type": "stream",
          "name": "stderr",
          "text": [
            "/usr/local/lib/python3.9/dist-packages/sklearn/metrics/_classification.py:1344: UndefinedMetricWarning: Precision and F-score are ill-defined and being set to 0.0 in labels with no predicted samples. Use `zero_division` parameter to control this behavior.\n",
            "  _warn_prf(average, modifier, msg_start, len(result))\n",
            "/usr/local/lib/python3.9/dist-packages/sklearn/metrics/_classification.py:1344: UndefinedMetricWarning: Precision and F-score are ill-defined and being set to 0.0 in labels with no predicted samples. Use `zero_division` parameter to control this behavior.\n",
            "  _warn_prf(average, modifier, msg_start, len(result))\n",
            "/usr/local/lib/python3.9/dist-packages/sklearn/metrics/_classification.py:1344: UndefinedMetricWarning: Precision and F-score are ill-defined and being set to 0.0 in labels with no predicted samples. Use `zero_division` parameter to control this behavior.\n",
            "  _warn_prf(average, modifier, msg_start, len(result))\n"
          ]
        }
      ],
      "source": [
        "from sklearn.metrics import classification_report\n",
        "\n",
        "# Get the classification report\n",
        "\n",
        "cr = classification_report(y_true, y_pred, digits=4)\n",
        "\n",
        "print(cr)"
      ]
    },
    {
      "cell_type": "code",
      "source": [],
      "metadata": {
        "id": "WGmDxjbf_i_d"
      },
      "execution_count": null,
      "outputs": []
    }
  ],
  "metadata": {
    "kernelspec": {
      "display_name": "Python 3",
      "language": "python",
      "name": "python3"
    },
    "language_info": {
      "codemirror_mode": {
        "name": "ipython",
        "version": 3
      },
      "file_extension": ".py",
      "mimetype": "text/x-python",
      "name": "python",
      "nbconvert_exporter": "python",
      "pygments_lexer": "ipython3",
      "version": "3.10.3"
    },
    "orig_nbformat": 4,
    "colab": {
      "provenance": []
    },
    "gpuClass": "standard",
    "accelerator": "GPU"
  },
  "nbformat": 4,
  "nbformat_minor": 0
}