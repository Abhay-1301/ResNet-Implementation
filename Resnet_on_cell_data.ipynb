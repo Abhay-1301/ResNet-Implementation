{
 "cells": [
  {
   "cell_type": "code",
   "execution_count": 5,
   "metadata": {},
   "outputs": [],
   "source": [
    "import os\n",
    "import pandas as pd\n",
    "import numpy as np\n",
    "import tensorflow as tf\n",
    "from tensorflow.keras.preprocessing.image import load_img, img_to_array\n",
    "from sklearn.model_selection import train_test_split\n",
    "from keras.callbacks import EarlyStopping, ModelCheckpoint\n",
    "from keras.preprocessing import image\n",
    "from tensorflow.keras.layers import Input, Conv2D, BatchNormalization, Activation, Add, MaxPool2D, Dense, GlobalAveragePooling2D\n",
    "from keras.models import load_model"
   ]
  },
  {
   "cell_type": "code",
   "execution_count": 6,
   "metadata": {},
   "outputs": [],
   "source": [
    "def conv3x3(filters, stride=1):\n",
    "    return Conv2D(filters, kernel_size=(3,3), strides=stride, padding='same', use_bias=False)\n",
    "\n",
    "def residual_block(x, filters, downsample=False):\n",
    "    shortcut = x\n",
    "    stride = 1\n",
    "    if downsample:\n",
    "        stride = 2\n",
    "        shortcut = Conv2D(filters, kernel_size=(1,1), strides=stride, padding='same', use_bias=False)(shortcut)\n",
    "        shortcut = BatchNormalization()(shortcut)\n",
    "    \n",
    "    x = conv3x3(filters, stride)(x)\n",
    "    x = BatchNormalization()(x)\n",
    "    x = Activation('relu')(x)\n",
    "    x = conv3x3(filters)(x)\n",
    "    x = BatchNormalization()(x)\n",
    "    \n",
    "    x = Add()([x, shortcut])\n",
    "    x = Activation('relu')(x)\n",
    "    return x\n",
    "\n",
    "def ResNet10(input_shape=(224,224,3), num_classes=1000):\n",
    "    inputs = Input(shape=input_shape)\n",
    "    \n",
    "    x = conv3x3(64, stride=2)(inputs)\n",
    "    x = BatchNormalization()(x)\n",
    "    x = Activation('relu')(x)\n",
    "    \n",
    "    x = residual_block(x, 64)\n",
    "    \n",
    "    x = residual_block(x, 128, downsample=True)\n",
    "    x = residual_block(x, 128)\n",
    "    \n",
    "    x = GlobalAveragePooling2D()(x)\n",
    "\n",
    "    x = Dense(num_classes, activation='softmax')(x)\n",
    "    \n",
    "    model = tf.keras.Model(inputs, x)\n",
    "    return model\n",
    "\n",
    "# Define function to load and preprocess images\n",
    "def load_and_preprocess_image(image_path):\n",
    "    # Load image\n",
    "    img = load_img(image_path, target_size=(64, 64))\n",
    "    # Convert image to array\n",
    "    img_arr = img_to_array(img)\n",
    "    # Normalize pixel values\n",
    "    img_arr = img_arr / 255.0\n",
    "    # Return preprocessed image\n",
    "    return img_arr\n",
    "\n"
   ]
  },
  {
   "cell_type": "code",
   "execution_count": 7,
   "metadata": {},
   "outputs": [],
   "source": [
    "# Define paths to image directory and label csv file\n",
    "image_dir = 'Cell_Data/Cell_Images/cells'\n",
    "label_file = 'Cell_Data/label.csv'\n",
    "\n",
    "# Load label csv file\n",
    "labels_df = pd.read_csv(label_file)\n",
    "\n",
    "# Create lists to store image paths and labels\n",
    "image_paths = []\n",
    "labels = []\n",
    "\n",
    "# Loop over each row in the label csv file and extract image path and label\n",
    "for index, row in labels_df.iterrows():\n",
    "    image_name = row['image_name']\n",
    "    label = row['label']\n",
    "    image_path = os.path.join(image_dir, image_name)\n",
    "    image_paths.append(image_path)\n",
    "    labels.append(label)\n",
    "\n",
    "# Convert labels to numpy array\n",
    "labels = np.array(labels)\n",
    "\n",
    "# Split data into training and testing sets\n",
    "train_image_paths, test_image_paths, train_labels, test_labels = train_test_split(image_paths, labels, test_size=0.2, random_state=42)\n",
    "\n",
    "\n",
    "\n",
    "\n",
    "\n",
    "\n",
    "\n",
    "\n",
    "\n",
    "\n",
    "\n",
    "\n",
    "\n",
    "\n",
    "# # train_images_file = 'train_images.npy'\n",
    "# # test_images_file = 'test_images.npy'\n",
    "\n",
    "# # # Check if preprocessed images already exist and load them if they do\n",
    "# # if os.path.exists(train_images_file):\n",
    "# #     train_images = np.load(train_images_file)\n",
    "# #     test_images = np.load(test_images_file)\n",
    "# # else:\n",
    "# #     # Split data into training and testing sets\n",
    "# #     train_image_paths, test_image_paths, train_labels, test_labels = train_test_split(image_paths, labels, test_size=0.2, random_state=42)"
   ]
  },
  {
   "cell_type": "code",
   "execution_count": 8,
   "metadata": {},
   "outputs": [],
   "source": [
    "# Load and preprocess training images\n",
    "train_images = []\n",
    "for image_path in train_image_paths:\n",
    "    img = load_and_preprocess_image(image_path)\n",
    "    train_images.append(img)\n",
    "train_images = np.array(train_images)\n",
    "\n",
    "# Load and preprocess testing images\n",
    "test_images = []\n",
    "for image_path in test_image_paths:\n",
    "    img = load_and_preprocess_image(image_path)\n",
    "    test_images.append(img)\n",
    "test_images = np.array(test_images)"
   ]
  },
  {
   "cell_type": "code",
   "execution_count": 9,
   "metadata": {},
   "outputs": [],
   "source": [
    "# # Save preprocessed images as numpy arrays\n",
    "# np.save('train_images.npy', train_images)\n",
    "# np.save('test_images.npy', test_images)\n",
    "# np.save('train_labels.npy', train_labels)\n",
    "# np.save('test_labels.npy', test_labels)\n"
   ]
  },
  {
   "cell_type": "code",
   "execution_count": 10,
   "metadata": {},
   "outputs": [],
   "source": [
    "# train_images = np.load('train_images.npy')\n",
    "# test_images = np.load('test_images.npy')"
   ]
  },
  {
   "cell_type": "code",
   "execution_count": 11,
   "metadata": {},
   "outputs": [
    {
     "name": "stdout",
     "output_type": "stream",
     "text": [
      "Model: \"model\"\n",
      "__________________________________________________________________________________________________\n",
      " Layer (type)                   Output Shape         Param #     Connected to                     \n",
      "==================================================================================================\n",
      " input_1 (InputLayer)           [(None, 64, 64, 3)]  0           []                               \n",
      "                                                                                                  \n",
      " conv2d (Conv2D)                (None, 32, 32, 64)   1728        ['input_1[0][0]']                \n",
      "                                                                                                  \n",
      " batch_normalization (BatchNorm  (None, 32, 32, 64)  256         ['conv2d[0][0]']                 \n",
      " alization)                                                                                       \n",
      "                                                                                                  \n",
      " activation (Activation)        (None, 32, 32, 64)   0           ['batch_normalization[0][0]']    \n",
      "                                                                                                  \n",
      " conv2d_1 (Conv2D)              (None, 32, 32, 64)   36864       ['activation[0][0]']             \n",
      "                                                                                                  \n",
      " batch_normalization_1 (BatchNo  (None, 32, 32, 64)  256         ['conv2d_1[0][0]']               \n",
      " rmalization)                                                                                     \n",
      "                                                                                                  \n",
      " activation_1 (Activation)      (None, 32, 32, 64)   0           ['batch_normalization_1[0][0]']  \n",
      "                                                                                                  \n",
      " conv2d_2 (Conv2D)              (None, 32, 32, 64)   36864       ['activation_1[0][0]']           \n",
      "                                                                                                  \n",
      " batch_normalization_2 (BatchNo  (None, 32, 32, 64)  256         ['conv2d_2[0][0]']               \n",
      " rmalization)                                                                                     \n",
      "                                                                                                  \n",
      " add (Add)                      (None, 32, 32, 64)   0           ['batch_normalization_2[0][0]',  \n",
      "                                                                  'activation[0][0]']             \n",
      "                                                                                                  \n",
      " activation_2 (Activation)      (None, 32, 32, 64)   0           ['add[0][0]']                    \n",
      "                                                                                                  \n",
      " conv2d_4 (Conv2D)              (None, 16, 16, 128)  73728       ['activation_2[0][0]']           \n",
      "                                                                                                  \n",
      " batch_normalization_4 (BatchNo  (None, 16, 16, 128)  512        ['conv2d_4[0][0]']               \n",
      " rmalization)                                                                                     \n",
      "                                                                                                  \n",
      " activation_3 (Activation)      (None, 16, 16, 128)  0           ['batch_normalization_4[0][0]']  \n",
      "                                                                                                  \n",
      " conv2d_5 (Conv2D)              (None, 16, 16, 128)  147456      ['activation_3[0][0]']           \n",
      "                                                                                                  \n",
      " conv2d_3 (Conv2D)              (None, 16, 16, 128)  8192        ['activation_2[0][0]']           \n",
      "                                                                                                  \n",
      " batch_normalization_5 (BatchNo  (None, 16, 16, 128)  512        ['conv2d_5[0][0]']               \n",
      " rmalization)                                                                                     \n",
      "                                                                                                  \n",
      " batch_normalization_3 (BatchNo  (None, 16, 16, 128)  512        ['conv2d_3[0][0]']               \n",
      " rmalization)                                                                                     \n",
      "                                                                                                  \n",
      " add_1 (Add)                    (None, 16, 16, 128)  0           ['batch_normalization_5[0][0]',  \n",
      "                                                                  'batch_normalization_3[0][0]']  \n",
      "                                                                                                  \n",
      " activation_4 (Activation)      (None, 16, 16, 128)  0           ['add_1[0][0]']                  \n",
      "                                                                                                  \n",
      " conv2d_6 (Conv2D)              (None, 16, 16, 128)  147456      ['activation_4[0][0]']           \n",
      "                                                                                                  \n",
      " batch_normalization_6 (BatchNo  (None, 16, 16, 128)  512        ['conv2d_6[0][0]']               \n",
      " rmalization)                                                                                     \n",
      "                                                                                                  \n",
      " activation_5 (Activation)      (None, 16, 16, 128)  0           ['batch_normalization_6[0][0]']  \n",
      "                                                                                                  \n",
      " conv2d_7 (Conv2D)              (None, 16, 16, 128)  147456      ['activation_5[0][0]']           \n",
      "                                                                                                  \n",
      " batch_normalization_7 (BatchNo  (None, 16, 16, 128)  512        ['conv2d_7[0][0]']               \n",
      " rmalization)                                                                                     \n",
      "                                                                                                  \n",
      " add_2 (Add)                    (None, 16, 16, 128)  0           ['batch_normalization_7[0][0]',  \n",
      "                                                                  'activation_4[0][0]']           \n",
      "                                                                                                  \n",
      " activation_6 (Activation)      (None, 16, 16, 128)  0           ['add_2[0][0]']                  \n",
      "                                                                                                  \n",
      " global_average_pooling2d (Glob  (None, 128)         0           ['activation_6[0][0]']           \n",
      " alAveragePooling2D)                                                                              \n",
      "                                                                                                  \n",
      " dense (Dense)                  (None, 7)            903         ['global_average_pooling2d[0][0]'\n",
      "                                                                 ]                                \n",
      "                                                                                                  \n",
      "==================================================================================================\n",
      "Total params: 603,975\n",
      "Trainable params: 602,311\n",
      "Non-trainable params: 1,664\n",
      "__________________________________________________________________________________________________\n"
     ]
    }
   ],
   "source": [
    "model = ResNet10(input_shape=(64, 64, 3), num_classes=7)\n",
    "model.summary()"
   ]
  },
  {
   "cell_type": "code",
   "execution_count": 12,
   "metadata": {},
   "outputs": [],
   "source": [
    "# Compile the model\n",
    "model.compile(optimizer='adam', loss='sparse_categorical_crossentropy', metrics=['accuracy'])\n",
    "\n",
    "# tf.keras.metrics.TruePositives(),tf.keras.metrics.TrueNegatives(),tf.keras.metrics.FalsePositives(),tf.keras.metrics.FalseNegatives()"
   ]
  },
  {
   "cell_type": "code",
   "execution_count": 13,
   "metadata": {},
   "outputs": [
    {
     "name": "stdout",
     "output_type": "stream",
     "text": [
      "Epoch 1/5\n",
      "1269/1269 [==============================] - 510s 400ms/step - loss: 0.6736 - accuracy: 0.7465 - val_loss: 0.7062 - val_accuracy: 0.7393\n",
      "Epoch 2/5\n",
      "1269/1269 [==============================] - 499s 393ms/step - loss: 0.3551 - accuracy: 0.8708 - val_loss: 0.4747 - val_accuracy: 0.8220\n",
      "Epoch 3/5\n",
      "1269/1269 [==============================] - 510s 402ms/step - loss: 0.2981 - accuracy: 0.8910 - val_loss: 0.4333 - val_accuracy: 0.8465\n",
      "Epoch 4/5\n",
      "1269/1269 [==============================] - 477s 376ms/step - loss: 0.2546 - accuracy: 0.9071 - val_loss: 0.8034 - val_accuracy: 0.7697\n",
      "Epoch 5/5\n",
      "1269/1269 [==============================] - 480s 379ms/step - loss: 0.2279 - accuracy: 0.9178 - val_loss: 0.7975 - val_accuracy: 0.7616\n"
     ]
    }
   ],
   "source": [
    "# Define some callbacks\n",
    "early_stop = EarlyStopping(patience=3, monitor='val_loss')\n",
    "checkpointer = ModelCheckpoint(filepath='best_model.h5', save_best_only=True, monitor='val_loss')\n",
    "\n",
    "# Train the model\n",
    "history = model.fit(train_images, train_labels, epochs=5, batch_size=32, validation_split=0.2, callbacks=[early_stop, checkpointer])"
   ]
  },
  {
   "cell_type": "code",
   "execution_count": 14,
   "metadata": {},
   "outputs": [],
   "source": [
    "# from matplotlib import pyplot as plt\n",
    "\n",
    "# plt.plot(history.history['accuracy'])\n",
    "# plt.plot(history.history['val_accuracy'])\n",
    "# plt.title('model accuracy')\n",
    "# plt.ylabel('accuracy')\n",
    "# plt.xlabel('epoch')\n",
    "# plt.legend(['train', 'val'], loc='upper left')\n",
    "# plt.show()"
   ]
  },
  {
   "cell_type": "code",
   "execution_count": 15,
   "metadata": {},
   "outputs": [
    {
     "name": "stdout",
     "output_type": "stream",
     "text": [
      "397/397 [==============================] - 28s 71ms/step - loss: 0.7696 - accuracy: 0.7608\n",
      "Test accuracy: 0.7608164548873901\n"
     ]
    }
   ],
   "source": [
    "# Evaluate model\n",
    "test_loss, test_acc = model.evaluate(test_images, test_labels)\n",
    "print('Test accuracy:', test_acc)\n",
    "\n",
    "\n",
    "\n",
    "\n",
    "\n",
    "\n",
    "\n",
    "\n",
    "\n",
    "\n",
    "# best_model = load_model('best_model.h5')\n",
    "\n",
    "# # Evaluate the model on the testing set\n",
    "# test_loss, test_accuracy = best_model.evaluate(test_generator)\n",
    "# print('Test loss:', test_loss)\n",
    "# print('Test accuracy:', test_accuracy)"
   ]
  },
  {
   "cell_type": "code",
   "execution_count": 16,
   "metadata": {},
   "outputs": [
    {
     "name": "stdout",
     "output_type": "stream",
     "text": [
      "397/397 [==============================] - 27s 67ms/step - loss: 0.4325 - accuracy: 0.8514\n",
      "Test loss: 0.4324866235256195\n",
      "Test accuracy: 0.8513673543930054\n"
     ]
    }
   ],
   "source": [
    "best_model = load_model('best_model.h5')\n",
    "\n",
    "# Evaluate the model on the testing set\n",
    "test_loss, test_accuracy = best_model.evaluate(test_images, test_labels)\n",
    "print('Test loss:', test_loss)\n",
    "print('Test accuracy:', test_accuracy)"
   ]
  },
  {
   "cell_type": "code",
   "execution_count": 17,
   "metadata": {},
   "outputs": [
    {
     "data": {
      "image/png": "[encoded data removed]",
      "text/plain": [
       "<Figure size 640x480 with 1 Axes>"
      ]
     },
     "metadata": {},
     "output_type": "display_data"
    }
   ],
   "source": [
    "from matplotlib import pyplot as plt\n",
    "\n",
    "plt.plot(history.history['accuracy'])\n",
    "plt.plot(history.history['val_accuracy'])\n",
    "plt.title('model accuracy')\n",
    "plt.ylabel('accuracy')\n",
    "plt.xlabel('epoch')\n",
    "plt.legend(['train', 'val'], loc='upper left')\n",
    "plt.show()"
   ]
  },
  {
   "cell_type": "code",
   "execution_count": 18,
   "metadata": {},
   "outputs": [
    {
     "data": {
      "image/png": "[encoded data removed]",
      "text/plain": [
       "<Figure size 640x480 with 1 Axes>"
      ]
     },
     "metadata": {},
     "output_type": "display_data"
    }
   ],
   "source": [
    "plt.plot(history.history['loss'])\n",
    "plt.plot(history.history['val_loss'])\n",
    "plt.title('model loss')\n",
    "plt.ylabel('loss')\n",
    "plt.xlabel('epoch')\n",
    "plt.legend(['train', 'val'], loc='upper left')\n",
    "plt.show()"
   ]
  },
  {
   "cell_type": "code",
   "execution_count": 19,
   "metadata": {},
   "outputs": [
    {
     "name": "stdout",
     "output_type": "stream",
     "text": [
      "397/397 [==============================] - 26s 64ms/step\n"
     ]
    }
   ],
   "source": [
    "result = model.predict(test_images,)\n",
    "y_test = np.argmax(result, axis=1)\n"
   ]
  },
  {
   "cell_type": "code",
   "execution_count": 20,
   "metadata": {},
   "outputs": [
    {
     "name": "stdout",
     "output_type": "stream",
     "text": [
      "[[2547   18  226   32    2   35]\n",
      " [ 787 1025  610  417    5   30]\n",
      " [  71    5 2369  102    2  137]\n",
      " [   1    1   73 2666    0    4]\n",
      " [  74    0  184    5  589  155]\n",
      " [   9    0   31   16    3  458]]\n"
     ]
    }
   ],
   "source": [
    "from sklearn.metrics import confusion_matrix\n",
    "\n",
    "# Assume y_true and y_pred are the true and predicted labels, respectively\n",
    "y_true = test_labels\n",
    "y_pred = y_test\n",
    "\n",
    "# Get the confusion matrix\n",
    "cm = confusion_matrix(y_true, y_pred)\n",
    "print(cm)\n"
   ]
  },
  {
   "cell_type": "code",
   "execution_count": 21,
   "metadata": {},
   "outputs": [
    {
     "name": "stdout",
     "output_type": "stream",
     "text": [
      "Class 1\n",
      "True Positives (TP):  2547\n",
      "True Negatives (TN):  8887\n",
      "False Positives (FP):  942\n",
      "False Negatives (FN):  313\n",
      "Class 2\n",
      "True Positives (TP):  1025\n",
      "True Negatives (TN):  9791\n",
      "False Positives (FP):  24\n",
      "False Negatives (FN):  1849\n",
      "Class 3\n",
      "True Positives (TP):  2369\n",
      "True Negatives (TN):  8879\n",
      "False Positives (FP):  1124\n",
      "False Negatives (FN):  317\n",
      "Class 4\n",
      "True Positives (TP):  2666\n",
      "True Negatives (TN):  9372\n",
      "False Positives (FP):  572\n",
      "False Negatives (FN):  79\n",
      "Class 5\n",
      "True Positives (TP):  589\n",
      "True Negatives (TN):  11670\n",
      "False Positives (FP):  12\n",
      "False Negatives (FN):  418\n",
      "Class 6\n",
      "True Positives (TP):  458\n",
      "True Negatives (TN):  11811\n",
      "False Positives (FP):  361\n",
      "False Negatives (FN):  59\n"
     ]
    }
   ],
   "source": [
    "# Loop over the rows and columns of the confusion matrix to extract TP, TN, FP, and FN numbers for each class\n",
    "for i in range(len(cm)):\n",
    "    tp = cm[i,i]\n",
    "    fp = sum(cm[:,i]) - tp\n",
    "    fn = sum(cm[i,:]) - tp\n",
    "    tn = sum(sum(cm)) - tp - fp - fn\n",
    "    \n",
    "    print(f\"Class {i+1}\")\n",
    "    print(\"True Positives (TP): \", tp)\n",
    "    print(\"True Negatives (TN): \", tn)\n",
    "    print(\"False Positives (FP): \", fp)\n",
    "    print(\"False Negatives (FN): \", fn)"
   ]
  },
  {
   "cell_type": "code",
   "execution_count": null,
   "metadata": {},
   "outputs": [],
   "source": []
  }
 ],
 "metadata": {
  "kernelspec": {
   "display_name": "Python 3",
   "language": "python",
   "name": "python3"
  },
  "language_info": {
   "codemirror_mode": {
    "name": "ipython",
    "version": 3
   },
   "file_extension": ".py",
   "mimetype": "text/x-python",
   "name": "python",
   "nbconvert_exporter": "python",
   "pygments_lexer": "ipython3",
   "version": "3.10.3"
  },
  "orig_nbformat": 4
 },
 "nbformat": 4,
 "nbformat_minor": 2
}
